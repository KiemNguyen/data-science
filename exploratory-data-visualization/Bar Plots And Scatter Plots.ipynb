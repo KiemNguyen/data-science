{
 "cells": [
  {
   "cell_type": "markdown",
   "metadata": {},
   "source": [
    "## Bar Plots And Scatter Plots"
   ]
  },
  {
   "cell_type": "code",
   "execution_count": 4,
   "metadata": {
    "collapsed": true
   },
   "outputs": [],
   "source": [
    "%matplotlib inline"
   ]
  },
  {
   "cell_type": "markdown",
   "metadata": {},
   "source": [
    "## 1. Introduction To The Data"
   ]
  },
  {
   "cell_type": "code",
   "execution_count": 7,
   "metadata": {
    "collapsed": false
   },
   "outputs": [
    {
     "name": "stdout",
     "output_type": "stream",
     "text": [
      "                             FILM  RT_user_norm  Metacritic_user_nom  \\\n",
      "0  Avengers: Age of Ultron (2015)           4.3                 3.55   \n",
      "\n",
      "   IMDB_norm  Fandango_Ratingvalue  Fandango_Stars  \n",
      "0        3.9                   4.5             5.0  \n"
     ]
    }
   ],
   "source": [
    "import pandas as pd\n",
    "reviews = pd.read_csv('fandango_scores.csv')\n",
    "cols = ['FILM', 'RT_user_norm', 'Metacritic_user_nom', 'IMDB_norm', 'Fandango_Ratingvalue', 'Fandango_Stars']\n",
    "norm_reviews = reviews[cols]\n",
    "print(norm_reviews[:1])"
   ]
  },
  {
   "cell_type": "markdown",
   "metadata": {},
   "source": [
    "## 2. Bar Plot"
   ]
  },
  {
   "cell_type": "code",
   "execution_count": 8,
   "metadata": {
    "collapsed": false
   },
   "outputs": [
    {
     "data": {
      "image/png": "[encoded data removed]",
      "text/plain": [
       "<matplotlib.figure.Figure at 0x112beb898>"
      ]
     },
     "metadata": {},
     "output_type": "display_data"
    }
   ],
   "source": [
    "import matplotlib.pyplot as plt\n",
    "from numpy import arange\n",
    "num_cols = ['RT_user_norm', 'Metacritic_user_nom', 'IMDB_norm', 'Fandango_Ratingvalue', 'Fandango_Stars']\n",
    "\n",
    "bar_heights = norm_reviews.ix[0, num_cols].values\n",
    "bar_positions = arange(5) + 0.75\n",
    "\n",
    "# Create a single subplot and assign the returned Figure object to fig and the returned Axes object to ax\n",
    "fig, ax = plt.subplots()\n",
    "\n",
    "ax.bar(bar_positions, bar_heights, 0.5)\n",
    "plt.show()"
   ]
  },
  {
   "cell_type": "markdown",
   "metadata": {},
   "source": [
    "## 3. Aligning Axis Ticks And Labels"
   ]
  },
  {
   "cell_type": "code",
   "execution_count": 10,
   "metadata": {
    "collapsed": false
   },
   "outputs": [
    {
     "data": {
      "image/png": "[encoded data removed]",
      "text/plain": [
       "<matplotlib.figure.Figure at 0x112c14d30>"
      ]
     },
     "metadata": {},
     "output_type": "display_data"
    }
   ],
   "source": [
    "num_cols = ['RT_user_norm', 'Metacritic_user_nom', 'IMDB_norm', 'Fandango_Ratingvalue', 'Fandango_Stars']\n",
    "bar_heights = norm_reviews.ix[0, num_cols].values\n",
    "bar_positions = arange(5) + 0.75\n",
    "tick_positions = range(1,6)\n",
    "\n",
    "fig, ax = plt.subplots()\n",
    "\n",
    "ax.bar(bar_positions, bar_heights, 0.5 )\n",
    "ax.set_xticks(tick_positions)\n",
    "ax.set_xticklabels(num_cols, rotation=90)\n",
    "\n",
    "ax.set_xlabel(\"Rating Source\")\n",
    "ax.set_ylabel(\"Average Rating\")\n",
    "ax.set_title(\"Average User Rating For Avengers: Age of Ultron (2015)\")\n",
    "\n",
    "plt.show()"
   ]
  },
  {
   "cell_type": "code",
   "execution_count": null,
   "metadata": {
    "collapsed": true
   },
   "outputs": [],
   "source": []
  }
 ],
 "metadata": {
  "kernelspec": {
   "display_name": "Python 3",
   "language": "python",
   "name": "python3"
  },
  "language_info": {
   "codemirror_mode": {
    "name": "ipython",
    "version": 3
   },
   "file_extension": ".py",
   "mimetype": "text/x-python",
   "name": "python",
   "nbconvert_exporter": "python",
   "pygments_lexer": "ipython3",
   "version": "3.6.0"
  }
 },
 "nbformat": 4,
 "nbformat_minor": 2
}
