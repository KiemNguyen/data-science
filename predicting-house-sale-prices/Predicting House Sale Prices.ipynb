{
 "cells": [
  {
   "cell_type": "code",
   "execution_count": 298,
   "metadata": {
    "collapsed": true
   },
   "outputs": [],
   "source": [
    "import pandas as pd\n",
    "import matplotlib.pyplot as plt\n",
    "import numpy as np\n",
    "from sklearn.metrics import mean_squared_error\n",
    "from sklearn.linear_model import LinearRegression\n",
    "import seaborn as sns"
   ]
  },
  {
   "cell_type": "code",
   "execution_count": 299,
   "metadata": {},
   "outputs": [],
   "source": [
    "df = pd.read_csv('AmesHousing.tsv', delimiter=\"\\t\")"
   ]
  },
  {
   "cell_type": "code",
   "execution_count": 272,
   "metadata": {},
   "outputs": [
    {
     "data": {
      "text/plain": [
       "57088.251612639091"
      ]
     },
     "execution_count": 272,
     "metadata": {},
     "output_type": "execute_result"
    }
   ],
   "source": [
    "def transform_features(df):\n",
    "    return df\n",
    "\n",
    "def select_features(df):\n",
    "    return df[[\"Gr Liv Area\", \"SalePrice\"]]\n",
    "\n",
    "def train_and_test(df):\n",
    "    train = df[:1460]\n",
    "    test = df[1460:]\n",
    "    \n",
    "    # Use only numerical columns \n",
    "    numeric_train = train.select_dtypes(include=['integer', 'float'])\n",
    "    numeric_test = test.select_dtypes(include=['integer', 'float'])\n",
    "    \n",
    "    features = numeric_train.columns.drop(\"SalePrice\")\n",
    "    \n",
    "    lr = LinearRegression()\n",
    "    lr.fit(train[features], train[\"SalePrice\"])\n",
    "    \n",
    "    predictions = lr.predict(test[features])\n",
    "    mse = mean_squared_error(test[\"SalePrice\"], predictions)\n",
    "    rmse = np.sqrt(mse)\n",
    "    \n",
    "    return rmse\n",
    "\n",
    "transform_df = transform_features(df)\n",
    "filtered_df = select_features(transform_df)\n",
    "rmse = train_and_test(filtered_df)\n",
    "\n",
    "rmse"
   ]
  },
  {
   "cell_type": "markdown",
   "metadata": {},
   "source": [
    "### Feature Engineering - Handle missing values"
   ]
  },
  {
   "cell_type": "markdown",
   "metadata": {},
   "source": [
    "1: All columns: Drop any column with 5% or more missing values for now."
   ]
  },
  {
   "cell_type": "code",
   "execution_count": 273,
   "metadata": {},
   "outputs": [],
   "source": [
    "value_missing_cols = df.isnull().sum()\n",
    "# Filter Series to columns which is >5% missing values\n",
    "dropped_columns = value_missing_columns[(value_missing_cols > len(df)/20)].sort_values()\n",
    "# Drop those columns from the data frame\n",
    "df = df.drop(dropped_columns.index, axis=1)"
   ]
  },
  {
   "cell_type": "markdown",
   "metadata": {},
   "source": [
    "2: Text columns: Drop any column with 1 or more missing values for now."
   ]
  },
  {
   "cell_type": "code",
   "execution_count": 274,
   "metadata": {},
   "outputs": [],
   "source": [
    "# Filter Series to text columns with missing value\n",
    "text_missing_cols = df.select_dtypes(include=['object']).isnull().sum().sort_values(ascending=False)\n",
    "dropped_columns_2 = text_missing_cols[text_missing_cols > 0]\n",
    "# Drop thos columns from the data frame\n",
    "df = df.drop(dropped_columns_2.index, axis=1)"
   ]
  },
  {
   "cell_type": "markdown",
   "metadata": {},
   "source": [
    "3: Numerical columns: For columns with missing values, fill in with the most common value in that column"
   ]
  },
  {
   "cell_type": "code",
   "execution_count": 275,
   "metadata": {},
   "outputs": [
    {
     "data": {
      "text/plain": [
       "BsmtFin SF 1       1\n",
       "BsmtFin SF 2       1\n",
       "Bsmt Unf SF        1\n",
       "Total Bsmt SF      1\n",
       "Garage Cars        1\n",
       "Garage Area        1\n",
       "Bsmt Full Bath     2\n",
       "Bsmt Half Bath     2\n",
       "Mas Vnr Area      23\n",
       "dtype: int64"
      ]
     },
     "execution_count": 275,
     "metadata": {},
     "output_type": "execute_result"
    }
   ],
   "source": [
    "# Compute column-wise missing value counts\n",
    "num_missing_cols = df.select_dtypes(include=['int', 'float']).isnull().sum()\n",
    "fix_num_columns = num_missing_cols[(num_missing_cols < len(df)/20) & (num_missing_cols > 0)].sort_values()\n",
    "fix_num_columns"
   ]
  },
  {
   "cell_type": "code",
   "execution_count": 276,
   "metadata": {},
   "outputs": [
    {
     "data": {
      "text/plain": [
       "{'Bsmt Full Bath': 0.0,\n",
       " 'Bsmt Half Bath': 0.0,\n",
       " 'Bsmt Unf SF': 0.0,\n",
       " 'BsmtFin SF 1': 0.0,\n",
       " 'BsmtFin SF 2': 0.0,\n",
       " 'Garage Area': 0.0,\n",
       " 'Garage Cars': 2.0,\n",
       " 'Mas Vnr Area': 0.0,\n",
       " 'Total Bsmt SF': 0.0}"
      ]
     },
     "execution_count": 276,
     "metadata": {},
     "output_type": "execute_result"
    }
   ],
   "source": [
    "# Compute the most common value for each column in fix_num_columns\n",
    "replacement_values_dict = df[fix_num_columns.index].mode().to_dict(orient='records')[0]\n",
    "replacement_values_dict"
   ]
  },
  {
   "cell_type": "code",
   "execution_count": 277,
   "metadata": {},
   "outputs": [],
   "source": [
    "# Replace missing values\n",
    "df = df.fillna(replacement_values_dict)"
   ]
  },
  {
   "cell_type": "code",
   "execution_count": 278,
   "metadata": {
    "collapsed": true
   },
   "outputs": [],
   "source": [
    "# Verify every column has 0 missing value"
   ]
  },
  {
   "cell_type": "code",
   "execution_count": 279,
   "metadata": {},
   "outputs": [
    {
     "data": {
      "text/plain": [
       "0      64\n",
       "490     1\n",
       "159     1\n",
       "dtype: int64"
      ]
     },
     "execution_count": 279,
     "metadata": {},
     "output_type": "execute_result"
    }
   ],
   "source": [
    "df.isnull().sum().value_counts()"
   ]
  },
  {
   "cell_type": "code",
   "execution_count": 280,
   "metadata": {},
   "outputs": [
    {
     "data": {
      "text/plain": [
       "2180   -1\n",
       "dtype: int64"
      ]
     },
     "execution_count": 280,
     "metadata": {},
     "output_type": "execute_result"
    }
   ],
   "source": [
    "# What new features can we create, that better capture the information in some of the features?\n",
    "years_sold = df['Yr Sold'] - df['Year Built']\n",
    "years_sold[years_sold < 0]"
   ]
  },
  {
   "cell_type": "code",
   "execution_count": 281,
   "metadata": {},
   "outputs": [
    {
     "data": {
      "text/plain": [
       "1702   -1\n",
       "2180   -2\n",
       "2181   -1\n",
       "dtype: int64"
      ]
     },
     "execution_count": 281,
     "metadata": {},
     "output_type": "execute_result"
    }
   ],
   "source": [
    "years_since_remod = df['Yr Sold'] - df['Year Remod/Add']\n",
    "years_since_remod[years_since_remod < 0]"
   ]
  },
  {
   "cell_type": "code",
   "execution_count": 282,
   "metadata": {},
   "outputs": [],
   "source": [
    "# Create new columns\n",
    "df['Years Before Sale'] = years_sold\n",
    "df['Years Since Remodel'] = years_since_remod\n",
    "\n",
    "# Drop rows with negative values\n",
    "df = df.drop([1702, 2180, 2181], axis=0)\n",
    "# Drop original year columns\n",
    "df = df.drop(['Year Built','Year Remod/Add'], axis=1)"
   ]
  },
  {
   "cell_type": "code",
   "execution_count": 267,
   "metadata": {},
   "outputs": [],
   "source": [
    "# Drop columns that aren't useful for ML\n",
    "df = df.drop([\"PID\", \"Order\"], axis=1)\n",
    "# Drop columns thats leak info about the final sale\n",
    "df = df.drop([\"Mo Sold\", \"Sale Condition\", \"Sale Type\", \"Yr Sold\"], axis=1)"
   ]
  },
  {
   "cell_type": "markdown",
   "metadata": {},
   "source": [
    "## Update transform_features(df) function with Feature Engineering"
   ]
  },
  {
   "cell_type": "code",
   "execution_count": 300,
   "metadata": {},
   "outputs": [
    {
     "data": {
      "text/plain": [
       "55275.367312413066"
      ]
     },
     "execution_count": 300,
     "metadata": {},
     "output_type": "execute_result"
    }
   ],
   "source": [
    "def transform_features(df):\n",
    "    value_missing_cols = df.isnull().sum()\n",
    "    # Filter Series to columns which is >5% missing values\n",
    "    dropped_columns = value_missing_cols[(value_missing_cols > len(df)/20)].sort_values()\n",
    "    # Drop those columns from the data frame\n",
    "    df = df.drop(dropped_columns.index, axis=1)\n",
    "    # Filter Series to text columns with missing value\n",
    "    text_missing_cols = df.select_dtypes(include=['object']).isnull().sum().sort_values(ascending=False)\n",
    "    dropped_columns_2 = text_missing_cols[text_missing_cols > 0]\n",
    "    # Drop thos columns from the data frame\n",
    "    df = df.drop(dropped_columns_2.index, axis=1)\n",
    "    # Compute column-wise missing value counts\n",
    "    num_missing_cols = df.select_dtypes(include=['int', 'float']).isnull().sum()\n",
    "    fix_num_columns = num_missing_cols[(num_missing_cols < len(df)/20) & (num_missing_cols > 0)].sort_values()\n",
    "    # Compute the most common value for each column in fix_num_columns\n",
    "    replacement_values_dict = df[fix_num_columns.index].mode().to_dict(orient='records')[0]\n",
    "    # Replace missing values\n",
    "    df = df.fillna(replacement_values_dict)\n",
    "    # Verify every column has 0 missing value\n",
    "    df.isnull().sum().value_counts()\n",
    "    # What new features can we create, that better capture the information in some of the features?\n",
    "    years_sold = df['Yr Sold'] - df['Year Built']\n",
    "    years_sold[years_sold < 0]\n",
    "    years_since_remod = df['Yr Sold'] - df['Year Remod/Add']\n",
    "    years_since_remod[years_since_remod < 0]\n",
    "    # Create new columns\n",
    "    df['Years Before Sale'] = years_sold\n",
    "    df['Years Since Remodel'] = years_since_remod\n",
    "\n",
    "    # Drop rows with negative values\n",
    "    df = df.drop([1702, 2180, 2181], axis=0)\n",
    "    # Drop original year columns\n",
    "    df = df.drop(['Year Built','Year Remod/Add'], axis=1)\n",
    "    \n",
    "    # Drop columns that aren't useful for ML\n",
    "    df = df.drop([\"PID\", \"Order\"], axis=1)\n",
    "    # Drop columns thats leak info about the final sale\n",
    "    df = df.drop([\"Mo Sold\", \"Sale Condition\", \"Sale Type\", \"Yr Sold\"], axis=1)\n",
    "    \n",
    "    return df\n",
    "\n",
    "def select_features(df):\n",
    "    return df[[\"Gr Liv Area\", \"SalePrice\"]]\n",
    "\n",
    "def train_and_test(df):\n",
    "    train = df[:1460]\n",
    "    test = df[1460:]\n",
    "    \n",
    "    # Use only numerical columns \n",
    "    numeric_train = train.select_dtypes(include=['integer', 'float'])\n",
    "    numeric_test = test.select_dtypes(include=['integer', 'float'])\n",
    "    \n",
    "    features = numeric_train.columns.drop(\"SalePrice\")\n",
    "    \n",
    "    lr = LinearRegression()\n",
    "    lr.fit(train[features], train[\"SalePrice\"])\n",
    "    \n",
    "    predictions = lr.predict(test[features])\n",
    "    mse = mean_squared_error(test[\"SalePrice\"], predictions)\n",
    "    rmse = np.sqrt(mse)\n",
    "    \n",
    "    return rmse\n",
    "\n",
    "transform_df = transform_features(df)\n",
    "filtered_df = select_features(transform_df)\n",
    "rmse = train_and_test(filtered_df)\n",
    "\n",
    "rmse"
   ]
  },
  {
   "cell_type": "markdown",
   "metadata": {},
   "source": [
    "## Generate a correlation heatmap matrix of the numerical features in the training data set"
   ]
  },
  {
   "cell_type": "code",
   "execution_count": 301,
   "metadata": {},
   "outputs": [
    {
     "name": "stdout",
     "output_type": "stream",
     "text": [
      "BsmtFin SF 2           0.006127\n",
      "Misc Val               0.019273\n",
      "3Ssn Porch             0.032268\n",
      "Bsmt Half Bath         0.035875\n",
      "Low Qual Fin SF        0.037629\n",
      "Pool Area              0.068438\n",
      "MS SubClass            0.085128\n",
      "Overall Cond           0.101540\n",
      "Screen Porch           0.112280\n",
      "Kitchen AbvGr          0.119760\n",
      "Enclosed Porch         0.128685\n",
      "Bedroom AbvGr          0.143916\n",
      "Bsmt Unf SF            0.182751\n",
      "Lot Area               0.267520\n",
      "2nd Flr SF             0.269601\n",
      "Bsmt Full Bath         0.276258\n",
      "Half Bath              0.284871\n",
      "Open Porch SF          0.316262\n",
      "Wood Deck SF           0.328183\n",
      "BsmtFin SF 1           0.439284\n",
      "Fireplaces             0.474831\n",
      "TotRms AbvGrd          0.498574\n",
      "Mas Vnr Area           0.506983\n",
      "Years Since Remodel    0.534985\n",
      "Full Bath              0.546118\n",
      "Years Before Sale      0.558979\n",
      "1st Flr SF             0.635185\n",
      "Garage Area            0.641425\n",
      "Total Bsmt SF          0.644012\n",
      "Garage Cars            0.648361\n",
      "Gr Liv Area            0.717596\n",
      "Overall Qual           0.801206\n",
      "SalePrice              1.000000\n",
      "Name: SalePrice, dtype: float64\n"
     ]
    }
   ],
   "source": [
    "numerical_df = transform_df.select_dtypes(include=['int', 'float'])\n",
    "corr_matrix = numerical_df.corr()\n",
    "sorted_corrs = corr_matrix[\"SalePrice\"].abs().sort_values()\n",
    "print(sorted_corrs)"
   ]
  },
  {
   "cell_type": "code",
   "execution_count": 302,
   "metadata": {
    "collapsed": true
   },
   "outputs": [],
   "source": [
    "# Let's only keep columns with a correlation coefficient of larger than 0.4"
   ]
  },
  {
   "cell_type": "code",
   "execution_count": 303,
   "metadata": {},
   "outputs": [
    {
     "name": "stdout",
     "output_type": "stream",
     "text": [
      "BsmtFin SF 1           0.439284\n",
      "Fireplaces             0.474831\n",
      "TotRms AbvGrd          0.498574\n",
      "Mas Vnr Area           0.506983\n",
      "Years Since Remodel    0.534985\n",
      "Full Bath              0.546118\n",
      "Years Before Sale      0.558979\n",
      "1st Flr SF             0.635185\n",
      "Garage Area            0.641425\n",
      "Total Bsmt SF          0.644012\n",
      "Garage Cars            0.648361\n",
      "Gr Liv Area            0.717596\n",
      "Overall Qual           0.801206\n",
      "SalePrice              1.000000\n",
      "Name: SalePrice, dtype: float64\n"
     ]
    }
   ],
   "source": [
    "strong_corrs = sorted_corrs[sorted_corrs > 0.4]\n",
    "print(strong_corrs)"
   ]
  },
  {
   "cell_type": "code",
   "execution_count": 307,
   "metadata": {},
   "outputs": [
    {
     "data": {
      "text/plain": [
       "<matplotlib.axes._subplots.AxesSubplot at 0x112dddc18>"
      ]
     },
     "execution_count": 307,
     "metadata": {},
     "output_type": "execute_result"
    },
    {
     "data": {
      "image/png": "[encoded data removed]",
      "text/plain": [
       "<matplotlib.figure.Figure at 0x112ded940>"
      ]
     },
     "metadata": {},
     "output_type": "display_data"
    }
   ],
   "source": [
    "%matplotlib inline\n",
    "corr_matrix = numerical_df[strong_corrs.index].corr()\n",
    "sns.heatmap(corr_matrix)"
   ]
  },
  {
   "cell_type": "markdown",
   "metadata": {},
   "source": []
  }
 ],
 "metadata": {
  "kernelspec": {
   "display_name": "Python 3",
   "language": "python",
   "name": "python3"
  },
  "language_info": {
   "codemirror_mode": {
    "name": "ipython",
    "version": 3
   },
   "file_extension": ".py",
   "mimetype": "text/x-python",
   "name": "python",
   "nbconvert_exporter": "python",
   "pygments_lexer": "ipython3",
   "version": "3.6.3"
  }
 },
 "nbformat": 4,
 "nbformat_minor": 2
}
