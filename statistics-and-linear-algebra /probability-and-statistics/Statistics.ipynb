{
 "cells": [
  {
   "cell_type": "code",
   "execution_count": 34,
   "metadata": {
    "collapsed": true
   },
   "outputs": [],
   "source": [
    "%matplotlib inline"
   ]
  },
  {
   "cell_type": "markdown",
   "metadata": {},
   "source": [
    "## 1. Working With Ordinal Scales"
   ]
  },
  {
   "cell_type": "code",
   "execution_count": 31,
   "metadata": {
    "collapsed": false
   },
   "outputs": [
    {
     "data": {
      "text/plain": [
       "0.8571428571428571"
      ]
     },
     "execution_count": 31,
     "metadata": {},
     "output_type": "execute_result"
    }
   ],
   "source": [
    "# Results from our survey on how many cigarettes people smoke per day\n",
    "survey_responses = [\"none\", \"some\", \"a lot\", \"none\", \"a few\", \"none\", \"none\"]\n",
    "survey_scale = [\"none\", \"a few\", \"some\", \"a lot\"]\n",
    "\n",
    "# Assign a number to each survey response that corresponds with its position on the scale\n",
    "survey_numbers = [survey_scale.index(response) for response in survey_responses]\n",
    "\n",
    "# Compute the average value of all the survey responses\n",
    "average_smoking = sum(survey_numbers) / len(survey_numbers)\n",
    "average_smoking"
   ]
  },
  {
   "cell_type": "markdown",
   "metadata": {},
   "source": [
    "## 2. Grouping Values With Categorical Scales"
   ]
  },
  {
   "cell_type": "markdown",
   "metadata": {},
   "source": [
    "Typically use them to split data into groups."
   ]
  },
  {
   "cell_type": "code",
   "execution_count": 32,
   "metadata": {
    "collapsed": false
   },
   "outputs": [
    {
     "name": "stdout",
     "output_type": "stream",
     "text": [
      "2133.3333333333335\n",
      "4166.666666666667\n"
     ]
    }
   ],
   "source": [
    "# Let's say that these lists are both columns in a matrix.  Index 0 is the first row in both, and so on.\n",
    "gender = [\"male\", \"female\", \"female\", \"male\", \"male\", \"female\"]\n",
    "savings = [1200, 5000, 3400, 2400, 2800, 4100]\n",
    "\n",
    "# Compute the average savings for everyone who is \"male\".\n",
    "male_saving_list = [savings[i] for i in range(0, len(gender)) if gender[i] == \"male\"]\n",
    "male_savings = sum(male_saving_list) / len(male_saving_list)\n",
    "print(male_saving)\n",
    "\n",
    "# Compute the average savings for everyone who is \"female\".\n",
    "female_saving_list = [savings[i] for i in range(0, len(gender)) if gender[i] == \"female\"]\n",
    "female_savings = sum(female_saving_list) / len(female_saving_list)\n",
    "\n",
    "print(female_saving)"
   ]
  },
  {
   "cell_type": "markdown",
   "metadata": {},
   "source": [
    "## 3. Visualizing Counts With Frequency Histograms"
   ]
  },
  {
   "cell_type": "code",
   "execution_count": 35,
   "metadata": {
    "collapsed": false
   },
   "outputs": [
    {
     "data": {
      "image/png": "[encoded data removed]",
      "text/plain": [
       "<matplotlib.figure.Figure at 0x11800c550>"
      ]
     },
     "metadata": {},
     "output_type": "display_data"
    },
    {
     "data": {
      "image/png": "[encoded data removed]",
      "text/plain": [
       "<matplotlib.figure.Figure at 0x117b0e518>"
      ]
     },
     "metadata": {},
     "output_type": "display_data"
    }
   ],
   "source": [
    "# Let's say that we watch cars drive by and calculate average speed in miles per hour\n",
    "average_speed = [10, 20, 25, 27, 28, 22, 15, 18, 17]\n",
    "import matplotlib.pyplot as plt\n",
    "plt.hist(average_speed)\n",
    "plt.show()\n",
    "\n",
    "# Let's say we measure student test scores from 0-100\n",
    "student_scores = [15, 80, 95, 100, 45, 75, 65]\n",
    "plt.hist(student_scores)\n",
    "plt.show()"
   ]
  },
  {
   "cell_type": "code",
   "execution_count": null,
   "metadata": {
    "collapsed": true
   },
   "outputs": [],
   "source": []
  }
 ],
 "metadata": {
  "kernelspec": {
   "display_name": "Python 3",
   "language": "python",
   "name": "python3"
  },
  "language_info": {
   "codemirror_mode": {
    "name": "ipython",
    "version": 3
   },
   "file_extension": ".py",
   "mimetype": "text/x-python",
   "name": "python",
   "nbconvert_exporter": "python",
   "pygments_lexer": "ipython3",
   "version": "3.6.0"
  }
 },
 "nbformat": 4,
 "nbformat_minor": 2
}
